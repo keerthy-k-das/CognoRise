{
  "nbformat": 4,
  "nbformat_minor": 0,
  "metadata": {
    "colab": {
      "provenance": []
    },
    "kernelspec": {
      "name": "python3",
      "display_name": "Python 3"
    },
    "language_info": {
      "name": "python"
    },
    "widgets": {
      "application/vnd.jupyter.widget-state+json": {
        "c99aedb810b14300a46316c84fa1e0b2": {
          "model_module": "@jupyter-widgets/controls",
          "model_name": "FileUploadModel",
          "model_module_version": "1.5.0",
          "state": {
            "_counter": 1,
            "_dom_classes": [],
            "_model_module": "@jupyter-widgets/controls",
            "_model_module_version": "1.5.0",
            "_model_name": "FileUploadModel",
            "_view_count": null,
            "_view_module": "@jupyter-widgets/controls",
            "_view_module_version": "1.5.0",
            "_view_name": "FileUploadView",
            "accept": ".csv",
            "button_style": "",
            "data": [
              null
            ],
            "description": "Upload",
            "description_tooltip": null,
            "disabled": false,
            "error": "",
            "icon": "upload",
            "layout": "IPY_MODEL_76af3658ea97422498b7ddf1ab05763b",
            "metadata": [
              {
                "name": "tested.csv",
                "type": "text/csv",
                "size": 29474,
                "lastModified": 1723311844811
              }
            ],
            "multiple": false,
            "style": "IPY_MODEL_98b89b6b6c7146b7a0f3e9d9a2971464"
          }
        },
        "76af3658ea97422498b7ddf1ab05763b": {
          "model_module": "@jupyter-widgets/base",
          "model_name": "LayoutModel",
          "model_module_version": "1.2.0",
          "state": {
            "_model_module": "@jupyter-widgets/base",
            "_model_module_version": "1.2.0",
            "_model_name": "LayoutModel",
            "_view_count": null,
            "_view_module": "@jupyter-widgets/base",
            "_view_module_version": "1.2.0",
            "_view_name": "LayoutView",
            "align_content": null,
            "align_items": null,
            "align_self": null,
            "border": null,
            "bottom": null,
            "display": null,
            "flex": null,
            "flex_flow": null,
            "grid_area": null,
            "grid_auto_columns": null,
            "grid_auto_flow": null,
            "grid_auto_rows": null,
            "grid_column": null,
            "grid_gap": null,
            "grid_row": null,
            "grid_template_areas": null,
            "grid_template_columns": null,
            "grid_template_rows": null,
            "height": null,
            "justify_content": null,
            "justify_items": null,
            "left": null,
            "margin": null,
            "max_height": null,
            "max_width": null,
            "min_height": null,
            "min_width": null,
            "object_fit": null,
            "object_position": null,
            "order": null,
            "overflow": null,
            "overflow_x": null,
            "overflow_y": null,
            "padding": null,
            "right": null,
            "top": null,
            "visibility": null,
            "width": null
          }
        },
        "98b89b6b6c7146b7a0f3e9d9a2971464": {
          "model_module": "@jupyter-widgets/controls",
          "model_name": "ButtonStyleModel",
          "model_module_version": "1.5.0",
          "state": {
            "_model_module": "@jupyter-widgets/controls",
            "_model_module_version": "1.5.0",
            "_model_name": "ButtonStyleModel",
            "_view_count": null,
            "_view_module": "@jupyter-widgets/base",
            "_view_module_version": "1.2.0",
            "_view_name": "StyleView",
            "button_color": null,
            "font_weight": ""
          }
        }
      }
    }
  },
  "cells": [
    {
      "cell_type": "code",
      "source": [
        "import pandas as pd\n",
        "import ipywidgets as widgets\n",
        "from IPython.display import display\n",
        "import io\n",
        "import seaborn as sns\n",
        "import matplotlib.pyplot as plt\n",
        "from sklearn.model_selection import train_test_split\n",
        "from sklearn.linear_model import LogisticRegression\n",
        "\n",
        "def handle_upload(change):\n",
        "    uploaded_filename = next(iter(uploader.value))\n",
        "    content = uploader.value[uploaded_filename]['content']\n",
        "\n",
        "    try:\n",
        "        data = pd.read_csv(io.BytesIO(content))\n",
        "\n",
        "        # Exploratory Data Analysis (basic example)\n",
        "        sns.countplot(x='Survived', data=data)\n",
        "        plt.show()\n",
        "\n",
        "        # Data Preprocessing (basic example)\n",
        "        data['Sex'] = data['Sex'].map({'male': 0, 'female': 1})\n",
        "\n",
        "        # Model Building and Training\n",
        "        X = data.drop('Survived', axis=1)\n",
        "        y = data['Survived']\n",
        "        X_train, X_test, y_train, y_test = train_test_split(X, y, test_size=0.2, random_state=42)\n",
        "\n",
        "        model = LogisticRegression()\n",
        "        model.fit(X_train, y_train)\n",
        "\n",
        "        # Model Evaluation\n",
        "        accuracy = model.score(X_test, y_test)\n",
        "        print(\"Accuracy:\", accuracy)\n",
        "\n",
        "    except Exception as e:\n",
        "        print(\"Error reading the file:\", e)\n",
        "\n",
        "# Create the upload button\n",
        "uploader = widgets.FileUpload(\n",
        "    accept='.csv',\n",
        "    multiple=False\n",
        ")\n",
        "\n",
        "display(uploader)\n",
        "\n",
        "uploader.observe(handle_upload, names='value')\n"
      ],
      "metadata": {
        "colab": {
          "base_uri": "https://localhost:8080/",
          "height": 499,
          "referenced_widgets": [
            "c99aedb810b14300a46316c84fa1e0b2",
            "76af3658ea97422498b7ddf1ab05763b",
            "98b89b6b6c7146b7a0f3e9d9a2971464"
          ]
        },
        "id": "g6LR5bs-dZnn",
        "outputId": "21a59cf5-04e2-433f-81b7-3ede06fd6958"
      },
      "execution_count": 11,
      "outputs": [
        {
          "output_type": "display_data",
          "data": {
            "text/plain": [
              "FileUpload(value={}, accept='.csv', description='Upload')"
            ],
            "application/vnd.jupyter.widget-view+json": {
              "version_major": 2,
              "version_minor": 0,
              "model_id": "c99aedb810b14300a46316c84fa1e0b2"
            }
          },
          "metadata": {}
        },
        {
          "output_type": "display_data",
          "data": {
            "text/plain": [
              "<Figure size 640x480 with 1 Axes>"
            ],
            "image/png": "[encoded data removed]"
          },
          "metadata": {}
        },
        {
          "output_type": "stream",
          "name": "stdout",
          "text": [
            "Error reading the file: could not convert string to float: 'de Brito, Mr. Jose Joaquim'\n"
          ]
        }
      ]
    }
  ]
}